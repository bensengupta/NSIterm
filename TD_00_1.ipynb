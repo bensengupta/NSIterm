{
 "cells": [
  {
   "cell_type": "code",
   "execution_count": 2,
   "metadata": {
    "hide_input": true,
    "hide_output": true,
    "init_cell": true,
    "run_control": {
     "marked": false
    }
   },
   "outputs": [
    {
     "data": {
      "application/javascript": [
       "\n",
       "function repeter(){\n",
       "IPython.notebook.kernel.execute(\"a=1\");\n",
       "}\n",
       "// execute a = 1 en python toutes les 8 minutes pendant 2h\n",
       "let timerId = setInterval(() => repeter(), 4800);\n",
       "setTimeout(() => { clearInterval(timerId); alert('fin de cession'); }, 7200000);\n",
       "\n",
       "// Supprimer la taille limite pour la sortie d'une cellule\n",
       "IPython.OutputArea.prototype._should_scroll = function(lines) {\n",
       "    return false;\n",
       "};\n",
       "IPython.notebook.kernel.execute(\"url = '\" + window.location + \"'\");\n",
       "\n",
       "// Exécuter toutes les cellule du notebook\n",
       "    require(\n",
       "        ['base/js/namespace', 'jquery'], \n",
       "        function(jupyter, $) {\n",
       "            \n",
       "                \n",
       "                jupyter.actions.call('jupyter-notebook:run-all-cells-below');\n",
       "                jupyter.actions.call('jupyter-notebook:save-notebook');\n",
       "                Jupyter.actions.call('jupyter-notebook:hide-header')\n",
       "\n",
       "        }\n",
       "    );"
      ],
      "text/plain": [
       "<IPython.core.display.Javascript object>"
      ]
     },
     "execution_count": 2,
     "metadata": {},
     "output_type": "execute_result"
    }
   ],
   "source": [
    "# Permet de tout executer au lancement du notebook + conserver le notebook actif pendant 2h\n",
    "from IPython.display import Javascript\n",
    "from masquer import *\n",
    "Javascript(\"\"\"\n",
    "function repeter(){\n",
    "IPython.notebook.kernel.execute(\"a=1\");\n",
    "}\n",
    "// execute a = 1 en python toutes les 8 minutes pendant 2h\n",
    "let timerId = setInterval(() => repeter(), 4800);\n",
    "setTimeout(() => { clearInterval(timerId); alert('fin de cession'); }, 7200000);\n",
    "\n",
    "// Supprimer la taille limite pour la sortie d'une cellule\n",
    "IPython.OutputArea.prototype._should_scroll = function(lines) {\n",
    "    return false;\n",
    "};\n",
    "IPython.notebook.kernel.execute(\"url = '\" + window.location + \"'\");\n",
    "\n",
    "// Exécuter toutes les cellule du notebook\n",
    "    require(\n",
    "        ['base/js/namespace', 'jquery'], \n",
    "        function(jupyter, $) {\n",
    "            \n",
    "                \n",
    "                jupyter.actions.call('jupyter-notebook:run-all-cells-below');\n",
    "                jupyter.actions.call('jupyter-notebook:save-notebook');\n",
    "                Jupyter.actions.call('jupyter-notebook:hide-header')\n",
    "\n",
    "        }\n",
    "    );\"\"\")"
   ]
  },
  {
   "cell_type": "markdown",
   "metadata": {},
   "source": [
    "# <span style=\"color:red;\"><center>TD_00_1 : Rappels de première</center></span>"
   ]
  },
  {
   "cell_type": "markdown",
   "metadata": {},
   "source": [
    "1. Ecrire une fonction **binaire** qui prend comme argument un int et qui renvoie une chaine de caractère représentant le binaire correspondant. Pour rappel, la conversion se fait par divisions successives par deux.\n",
    "Par exemple: binaire(2) doit renvoyer \"10\" et binaire(7) \"111\". Votre fonction devra être correctement commentée et documentée."
   ]
  },
  {
   "cell_type": "code",
   "execution_count": 1,
   "metadata": {
    "run_control": {
     "marked": false
    }
   },
   "outputs": [
    {
     "data": {
      "text/plain": [
       "'10'"
      ]
     },
     "execution_count": 1,
     "metadata": {},
     "output_type": "execute_result"
    }
   ],
   "source": [
    "# Question 1.\n",
    "def binaire(n):\n",
    "    \"\"\"Convertit un nombre n décimal en string binaire.\"\"\"\n",
    "    out = ''\n",
    "    while n > 0:\n",
    "        out = str(n % 2) + out\n",
    "        n //= 2\n",
    "    return out\n",
    "\n",
    "binaire(2)"
   ]
  },
  {
   "cell_type": "markdown",
   "metadata": {},
   "source": [
    "2. Construire par compréhension une liste contenant tous les entiers impairs compris entre 0 et 10.\n",
    "3. Stocker cette liste dans une variable $l$"
   ]
  },
  {
   "cell_type": "code",
   "execution_count": 8,
   "metadata": {
    "run_control": {
     "marked": false
    }
   },
   "outputs": [
    {
     "data": {
      "text/plain": [
       "[1, 3, 5, 7, 9]"
      ]
     },
     "execution_count": 8,
     "metadata": {},
     "output_type": "execute_result"
    }
   ],
   "source": [
    "# Questions 2 et 3\n",
    "l = [i for i in range(10) if i % 2 == 1]\n",
    "l"
   ]
  },
  {
   "cell_type": "markdown",
   "metadata": {},
   "source": [
    "4. Associer dans un dictionnaire les valeurs n et 3n+2 pour $0\\le n \\le 50$"
   ]
  },
  {
   "cell_type": "code",
   "execution_count": 9,
   "metadata": {
    "run_control": {
     "marked": false
    }
   },
   "outputs": [
    {
     "data": {
      "text/plain": [
       "{0: 2,\n",
       " 1: 5,\n",
       " 2: 8,\n",
       " 3: 11,\n",
       " 4: 14,\n",
       " 5: 17,\n",
       " 6: 20,\n",
       " 7: 23,\n",
       " 8: 26,\n",
       " 9: 29,\n",
       " 10: 32,\n",
       " 11: 35,\n",
       " 12: 38,\n",
       " 13: 41,\n",
       " 14: 44,\n",
       " 15: 47,\n",
       " 16: 50,\n",
       " 17: 53,\n",
       " 18: 56,\n",
       " 19: 59,\n",
       " 20: 62,\n",
       " 21: 65,\n",
       " 22: 68,\n",
       " 23: 71,\n",
       " 24: 74,\n",
       " 25: 77,\n",
       " 26: 80,\n",
       " 27: 83,\n",
       " 28: 86,\n",
       " 29: 89,\n",
       " 30: 92,\n",
       " 31: 95,\n",
       " 32: 98,\n",
       " 33: 101,\n",
       " 34: 104,\n",
       " 35: 107,\n",
       " 36: 110,\n",
       " 37: 113,\n",
       " 38: 116,\n",
       " 39: 119,\n",
       " 40: 122,\n",
       " 41: 125,\n",
       " 42: 128,\n",
       " 43: 131,\n",
       " 44: 134,\n",
       " 45: 137,\n",
       " 46: 140,\n",
       " 47: 143,\n",
       " 48: 146,\n",
       " 49: 149,\n",
       " 50: 152}"
      ]
     },
     "execution_count": 9,
     "metadata": {},
     "output_type": "execute_result"
    }
   ],
   "source": [
    "# Question 4\n",
    "val_map = {}\n",
    "for n in range(51):\n",
    "    val_map[n] = 3*n+2\n",
    "val_map"
   ]
  },
  {
   "cell_type": "markdown",
   "metadata": {},
   "source": [
    "5. Ecrire une fonction **tri_insertion** qui prend comme argument une liste de floats et qui renvoie la liste de floats triés dans l'ordre croissant par un algorithme de tri insertion. Vous pouvez regarder la vidéo ci-dessous pour vous rappeler l'algorithme."
   ]
  },
  {
   "cell_type": "code",
   "execution_count": 12,
   "metadata": {
    "hide_input": true,
    "run_control": {
     "marked": false
    }
   },
   "outputs": [
    {
     "data": {
      "text/html": [
       "<iframe width=\"640\" height=\"480\" src=\"https://www.youtube.com/embed/ROalU379l3U\" frameborder=\"0\" allow=\"accelerometer; autoplay; encrypted-media; gyroscope; picture-in-picture\" allowfullscreen></iframe>"
      ],
      "text/plain": [
       "<IPython.core.display.HTML object>"
      ]
     },
     "execution_count": 12,
     "metadata": {},
     "output_type": "execute_result"
    }
   ],
   "source": [
    "from IPython.display import HTML,IFrame\n",
    "HTML(\"\"\"<iframe width=\"640\" height=\"480\" src=\"https://www.youtube.com/embed/ROalU379l3U\" frameborder=\"0\" allow=\"accelerometer; autoplay; encrypted-media; gyroscope; picture-in-picture\" allowfullscreen></iframe>\"\"\")"
   ]
  },
  {
   "cell_type": "code",
   "execution_count": 15,
   "metadata": {
    "run_control": {
     "marked": false
    }
   },
   "outputs": [
    {
     "data": {
      "text/plain": [
       "[0.42, 0.43, 1.45, 3.21, 4.43]"
      ]
     },
     "execution_count": 15,
     "metadata": {},
     "output_type": "execute_result"
    }
   ],
   "source": [
    "# Question 5\n",
    "def tri_insertion(arr):\n",
    "    \"\"\"Trie une liste arr de nombres en utilisant la méthode de tri insertion.\"\"\"\n",
    "    for pos in range(len(arr)):\n",
    "        for i in range(pos, 0, -1):\n",
    "            if (arr[i - 1] > arr[i]):\n",
    "                arr[i - 1], arr[i] = arr[i], arr[i - 1]\n",
    "    return arr\n",
    "\n",
    "tri_insertion([0.43, 0.42, 1.45, 4.43, 3.21])"
   ]
  },
  {
   "cell_type": "markdown",
   "metadata": {},
   "source": [
    "6. Etudiez et commentez la fonction mystere suivante."
   ]
  },
  {
   "cell_type": "code",
   "execution_count": 17,
   "metadata": {
    "run_control": {
     "marked": false
    }
   },
   "outputs": [
    {
     "name": "stdout",
     "output_type": "stream",
     "text": [
      "[442, 492, 62, 918, 830, 304, 993, 323, 193, 586, 355, 740, 798, 320, 875, 725, 437, 792, 139, 834]\n"
     ]
    },
    {
     "data": {
      "text/plain": [
       "993"
      ]
     },
     "execution_count": 17,
     "metadata": {},
     "output_type": "execute_result"
    }
   ],
   "source": [
    "# Question 6\n",
    "from random import *\n",
    "entree = [randint(0,1000) for i in range(20)]\n",
    "\n",
    "def mystere(liste):\n",
    "    \"\"\"Retourne la valeur maximale d'une liste de nombres.\"\"\"\n",
    "    m = liste[0]\n",
    "    for val in liste:\n",
    "        if val > m:\n",
    "            m = val\n",
    "    return m\n",
    "\n",
    "print(entree)\n",
    "mystere(entree)"
   ]
  },
  {
   "cell_type": "markdown",
   "metadata": {},
   "source": [
    "7. Modifiez la fonction mystere ci-dessous pour qu'elle renvoie aussi l'indice correspondant à m"
   ]
  },
  {
   "cell_type": "code",
   "execution_count": 21,
   "metadata": {
    "run_control": {
     "marked": false
    }
   },
   "outputs": [
    {
     "name": "stdout",
     "output_type": "stream",
     "text": [
      "[249, 335, 950, 673, 539, 229, 339, 927, 294, 657, 355, 376, 259, 513, 133, 120, 787, 759, 699, 588]\n"
     ]
    },
    {
     "data": {
      "text/plain": [
       "(2, 950)"
      ]
     },
     "execution_count": 21,
     "metadata": {},
     "output_type": "execute_result"
    }
   ],
   "source": [
    "# Question 7\n",
    "entree = [randint(0,1000) for i in range(20)]\n",
    "\n",
    "def mystere(liste):\n",
    "    \"\"\"Retourne l'indice et la valeur maximale d'une liste de nombres.\"\"\"\n",
    "    m = (0, liste[0])\n",
    "    for i in enumerate(liste):\n",
    "        if i[1] > m[1]:\n",
    "            m = i\n",
    "    return m\n",
    "\n",
    "print(entree)\n",
    "mystere(entree)"
   ]
  },
  {
   "cell_type": "markdown",
   "metadata": {},
   "source": [
    "8. Etudiez la fonction mystere2 suivante. Documentez là et commentez là."
   ]
  },
  {
   "cell_type": "code",
   "execution_count": 36,
   "metadata": {
    "run_control": {
     "marked": false
    }
   },
   "outputs": [
    {
     "name": "stdout",
     "output_type": "stream",
     "text": [
      "[12, 44, 67, 67, 82, 98, 112, 119, 140, 157, 190, 213, 217, 218, 229, 231, 247, 258, 263, 265, 279, 283, 294, 314, 316, 316, 316, 322, 330, 338, 354, 361, 365, 397, 397, 399, 402, 403, 418, 425, 427, 441, 443, 446, 447, 458, 464, 483, 493, 496, 504, 515, 517, 520, 527, 528, 546, 565, 583, 598, 607, 608, 610, 640, 647, 705, 735, 737, 750, 752, 760, 764, 770, 787, 795, 811, 820, 823, 831, 832, 838, 842, 843, 847, 852, 854, 862, 868, 873, 889, 891, 920, 924, 945, 948, 948, 955, 958, 965, 998]\n"
     ]
    },
    {
     "data": {
      "text/plain": [
       "False"
      ]
     },
     "execution_count": 36,
     "metadata": {},
     "output_type": "execute_result"
    }
   ],
   "source": [
    "# Question 8\n",
    "entree = sorted([randint(0,1000) for i in range(100)])\n",
    "\n",
    "\n",
    "def mystere2(liste,val):\n",
    "    \"\"\"Trouve si un nombre val est contenu dans une liste de nombres.\"\"\"\n",
    "    l = liste[:]\n",
    "    while l:\n",
    "        n = len(l)\n",
    "        # Si val n'est pas dans la deuxième moitié de la liste\n",
    "        if val < l[n//2]:\n",
    "            # Conserver seulement la première moitié de la liste\n",
    "            l = l[:n//2]\n",
    "        # Si val est la valeur au milieu de la liste\n",
    "        elif val == l[n//2]:\n",
    "            # Nombre trouvé dans la liste\n",
    "            return True\n",
    "        # Si val n'est pas dans la première moitié de la liste\n",
    "        else:\n",
    "            # Conserver seulement la deuxième moitié de la liste\n",
    "            l = l[n//2+1:]\n",
    "    # Nombre pas trouvé dans la liste\n",
    "    return False\n",
    "            \n",
    "\n",
    "print(entree)    \n",
    "mystere2(entree,300)"
   ]
  }
 ],
 "metadata": {
  "celltoolbar": "None",
  "kernelspec": {
   "display_name": "Python 3",
   "language": "python",
   "name": "python3"
  },
  "language_info": {
   "codemirror_mode": {
    "name": "ipython",
    "version": 3
   },
   "file_extension": ".py",
   "mimetype": "text/x-python",
   "name": "python",
   "nbconvert_exporter": "python",
   "pygments_lexer": "ipython3",
   "version": "3.8.3"
  }
 },
 "nbformat": 4,
 "nbformat_minor": 4
}
